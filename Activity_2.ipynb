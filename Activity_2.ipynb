{
  "nbformat": 4,
  "nbformat_minor": 0,
  "metadata": {
    "colab": {
      "name": "Activity 2.ipynb",
      "provenance": [],
      "collapsed_sections": [],
      "authorship_tag": "ABX9TyMLuiNr5y5r5mQH5MtB4lEe",
      "include_colab_link": true
    },
    "kernelspec": {
      "name": "python3",
      "display_name": "Python 3"
    },
    "language_info": {
      "name": "python"
    }
  },
  "cells": [
    {
      "cell_type": "markdown",
      "metadata": {
        "id": "view-in-github",
        "colab_type": "text"
      },
      "source": [
        "<a href=\"https://colab.research.google.com/github/GabrielCatanaoan/OOP1_2/blob/main/Activity_2.ipynb\" target=\"_parent\"><img src=\"https://colab.research.google.com/assets/colab-badge.svg\" alt=\"Open In Colab\"/></a>"
      ]
    },
    {
      "cell_type": "code",
      "source": [
        "#Write a python program that converts the temperature Celsius to Farenheit.Create a class name Temperature\n",
        "#Create Celsius as attribute name,Temp() as method, and temp1 as object name. F=1.8xC+32\n",
        "\n",
        "class Temperature:\n",
        "  def __init__(self,Celsius):\n",
        "    self.Celsius=Celsius\n",
        "  \n",
        "  def Temp(self):\n",
        "    return 'Farenheit={}'.format(1.8*self.Celsius+32)\n",
        "\n",
        "temp1=Temperature(float(input('Celsius=')))\n",
        "print(temp1.Temp())\n",
        "\n"
      ],
      "metadata": {
        "id": "TndYPsn1YpR7",
        "colab": {
          "base_uri": "https://localhost:8080/"
        },
        "outputId": "861771b8-0c4f-423c-d5ef-a240a252c8c8"
      },
      "execution_count": 33,
      "outputs": [
        {
          "output_type": "stream",
          "name": "stdout",
          "text": [
            "Celsius=12\n",
            "Farenheit=53.6\n"
          ]
        }
      ]
    },
    {
      "cell_type": "code",
      "source": [
        "#Define a Perimeter() method of the class which allows you to calculate the perimeter of the circle.\n",
        "#Define an Area() method of the class that calculates the circle’s area.\n",
        "\n",
        "import math\n",
        "class Circle:\n",
        "  def __init__(self,radius):\n",
        "    self.radius=radius\n",
        "\n",
        "  def Area(self):\n",
        "    return 'Area of the Circle={}'.format(round((math.pi*self.radius**2),2))\n",
        "\n",
        "  def Perimeter(self):\n",
        "    return 'Perimeter of the Circle={}'.format(round((math.pi*self.radius*2),2)) \n",
        "    \n",
        "radius1=Circle(float(input('input radius=')))\n",
        "print(radius1.Area())\n",
        "print(radius1.Perimeter())"
      ],
      "metadata": {
        "colab": {
          "base_uri": "https://localhost:8080/"
        },
        "id": "FOzpY-xEYUc4",
        "outputId": "bb5dd3e2-e369-4231-f848-5aa79a9da8c4"
      },
      "execution_count": 69,
      "outputs": [
        {
          "output_type": "stream",
          "name": "stdout",
          "text": [
            "input radius=3\n",
            "Area of the Circle=28.27\n",
            "Perimeter of the Circle=18.85\n"
          ]
        }
      ]
    }
  ]
}