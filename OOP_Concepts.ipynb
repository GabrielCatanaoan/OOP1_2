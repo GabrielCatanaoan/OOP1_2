{
  "nbformat": 4,
  "nbformat_minor": 0,
  "metadata": {
    "colab": {
      "name": "OOP Concepts.ipynb",
      "provenance": [],
      "collapsed_sections": [],
      "authorship_tag": "ABX9TyN9Kdbg/FuHGyTkeGnJK3ZI",
      "include_colab_link": true
    },
    "kernelspec": {
      "name": "python3",
      "display_name": "Python 3"
    },
    "language_info": {
      "name": "python"
    }
  },
  "cells": [
    {
      "cell_type": "markdown",
      "metadata": {
        "id": "view-in-github",
        "colab_type": "text"
      },
      "source": [
        "<a href=\"https://colab.research.google.com/github/GabrielCatanaoan/OOP1_2/blob/main/OOP_Concepts.ipynb\" target=\"_parent\"><img src=\"https://colab.research.google.com/assets/colab-badge.svg\" alt=\"Open In Colab\"/></a>"
      ]
    },
    {
      "cell_type": "markdown",
      "source": [
        "##Python Classes and Objects"
      ],
      "metadata": {
        "id": "NOPNWsDFSuAp"
      }
    },
    {
      "cell_type": "markdown",
      "source": [
        "Create a Class"
      ],
      "metadata": {
        "id": "2KHse6F3385_"
      }
    },
    {
      "cell_type": "code",
      "source": [
        "class MyClass:\n",
        "  pass\n",
        "  "
      ],
      "metadata": {
        "id": "l5ATtE6OSvJQ"
      },
      "execution_count": 1,
      "outputs": []
    },
    {
      "cell_type": "code",
      "source": [
        "class OOP1_2:\n",
        "  x=5\n",
        "  print(x)"
      ],
      "metadata": {
        "colab": {
          "base_uri": "https://localhost:8080/"
        },
        "id": "fPvfrCDVS1oR",
        "outputId": "d1df283b-2edb-4620-84f3-9450dfd16c45"
      },
      "execution_count": 2,
      "outputs": [
        {
          "output_type": "stream",
          "name": "stdout",
          "text": [
            "5\n"
          ]
        }
      ]
    },
    {
      "cell_type": "markdown",
      "source": [
        "Create Objects"
      ],
      "metadata": {
        "id": "Nzv4qARJUFBD"
      }
    },
    {
      "cell_type": "code",
      "source": [
        "class OOP1_2:\n",
        "  def __init__(self,name,age):           #__init__(parameter)\n",
        "    self.name=name                        #attributes\n",
        "    self.age=age\n",
        "\n",
        "  def identity(self):\n",
        "    print(self.name, self.age)\n",
        "\n",
        "person= OOP1_2('Gabriel',18)        #create objects\n",
        "\n",
        "print(person.identity)\n",
        "print(person.name)\n",
        "print(person.age)\n",
        "\n",
        " \n",
        "  "
      ],
      "metadata": {
        "colab": {
          "base_uri": "https://localhost:8080/"
        },
        "id": "XT55kc8uTI4Y",
        "outputId": "fb351a2f-2d7b-4905-bdba-a6c70287ba77"
      },
      "execution_count": 17,
      "outputs": [
        {
          "output_type": "stream",
          "name": "stdout",
          "text": [
            "<bound method OOP1_2.identity of <__main__.OOP1_2 object at 0x7f5826576990>>\n",
            "Gabriel\n",
            "18\n"
          ]
        }
      ]
    },
    {
      "cell_type": "code",
      "source": [
        "#modify the Object Name\n",
        "\n",
        "person.name= 'Gab'\n",
        "print(person.name)\n",
        "print(person.age)"
      ],
      "metadata": {
        "colab": {
          "base_uri": "https://localhost:8080/"
        },
        "id": "pqDQsRW082CT",
        "outputId": "aafe849f-f7c4-477e-f36f-374bbf1d6f67"
      },
      "execution_count": 25,
      "outputs": [
        {
          "output_type": "stream",
          "name": "stdout",
          "text": [
            "Gab\n",
            "18\n"
          ]
        }
      ]
    },
    {
      "cell_type": "code",
      "source": [
        "person.age=40\n",
        "print(person.name)\n",
        "print(person.age)"
      ],
      "metadata": {
        "colab": {
          "base_uri": "https://localhost:8080/"
        },
        "id": "fLqkkS0l_Dfu",
        "outputId": "471e9cde-4846-451b-958e-454054c7c1dc"
      },
      "execution_count": 26,
      "outputs": [
        {
          "output_type": "stream",
          "name": "stdout",
          "text": [
            "Gab\n",
            "40\n"
          ]
        }
      ]
    },
    {
      "cell_type": "code",
      "source": [
        "#Delete the Object\n",
        "\n",
        "del person.name"
      ],
      "metadata": {
        "id": "aYVtpJ0w_PO7"
      },
      "execution_count": 27,
      "outputs": []
    },
    {
      "cell_type": "code",
      "source": [
        "print(person.name)"
      ],
      "metadata": {
        "colab": {
          "base_uri": "https://localhost:8080/",
          "height": 171
        },
        "id": "fxqnEBct_mDz",
        "outputId": "7fc95401-2a65-48f6-ff58-6916dc04705a"
      },
      "execution_count": 28,
      "outputs": [
        {
          "output_type": "error",
          "ename": "AttributeError",
          "evalue": "ignored",
          "traceback": [
            "\u001b[0;31m---------------------------------------------------------------------------\u001b[0m",
            "\u001b[0;31mAttributeError\u001b[0m                            Traceback (most recent call last)",
            "\u001b[0;32m<ipython-input-28-8da234c70cac>\u001b[0m in \u001b[0;36m<module>\u001b[0;34m()\u001b[0m\n\u001b[0;32m----> 1\u001b[0;31m \u001b[0mprint\u001b[0m\u001b[0;34m(\u001b[0m\u001b[0mperson\u001b[0m\u001b[0;34m.\u001b[0m\u001b[0mname\u001b[0m\u001b[0;34m)\u001b[0m\u001b[0;34m\u001b[0m\u001b[0;34m\u001b[0m\u001b[0m\n\u001b[0m",
            "\u001b[0;31mAttributeError\u001b[0m: 'OOP1_2' object has no attribute 'name'"
          ]
        }
      ]
    },
    {
      "cell_type": "code",
      "source": [
        "print(person.age) "
      ],
      "metadata": {
        "colab": {
          "base_uri": "https://localhost:8080/"
        },
        "id": "3Es6wCrtAH5n",
        "outputId": "4554aef5-5e20-4032-d358-50d454342800"
      },
      "execution_count": 30,
      "outputs": [
        {
          "output_type": "stream",
          "name": "stdout",
          "text": [
            "40\n"
          ]
        }
      ]
    },
    {
      "cell_type": "markdown",
      "source": [
        "Application 1-Write a Python program that computes the area of a square,and the name its class as Square,side as attributes"
      ],
      "metadata": {
        "id": "ezUYaUcHXlA9"
      }
    },
    {
      "cell_type": "code",
      "source": [
        "class Square:\n",
        "  def __init__(self,sides):\n",
        "    self.sides= sides\n",
        "\n",
        "  def area(self):\n",
        "    return self.sides*self.sides         #Formula to compute the area of the square\n",
        "\n",
        "  def display(self):\n",
        "    print('the area of the square is:',self.area())\n",
        "\n",
        "square=Square(4)\n",
        "\n",
        "print(square.sides)\n",
        "square.display()"
      ],
      "metadata": {
        "colab": {
          "base_uri": "https://localhost:8080/"
        },
        "id": "pdVeUbw0YEMd",
        "outputId": "a631ec8e-9784-4d31-8359-b913a9cf1072"
      },
      "execution_count": 33,
      "outputs": [
        {
          "output_type": "stream",
          "name": "stdout",
          "text": [
            "4\n",
            "the area of the square is: 16\n"
          ]
        }
      ]
    },
    {
      "cell_type": "markdown",
      "source": [
        "Application 2- Write a Python program that displays your full name,age ,course,school. Create a class named MyClass, and name,age,school,course as attributes"
      ],
      "metadata": {
        "id": "b1enuefdbnQh"
      }
    },
    {
      "cell_type": "code",
      "source": [
        "class MyClass:\n",
        "  def __init__(self,name,age,course,school):\n",
        "    self.name=name\n",
        "    self.age=age\n",
        "    self.course=course\n",
        "    self.school=school\n",
        "\n",
        "  def information(self):\n",
        "    return '''{}\n",
        "{}\n",
        "{}\n",
        "{}'''.format(self.name,self.age,self.course,self.school)  \n",
        "\n",
        "student= MyClass('Gabriel S. Catanaoan', 18, 'Bachelor of Science in Computer Engineering', 'Cavite State University')\n",
        "print(student.information())"
      ],
      "metadata": {
        "id": "mRbUZt54c7mr",
        "colab": {
          "base_uri": "https://localhost:8080/"
        },
        "outputId": "5ee619ac-1f95-4b3f-d439-2aa6dcb99dce"
      },
      "execution_count": 58,
      "outputs": [
        {
          "output_type": "stream",
          "name": "stdout",
          "text": [
            "Gabriel S. Catanaoan\n",
            "18\n",
            "Bachelor of Science in Computer Engineering\n",
            "Cavite State University\n"
          ]
        }
      ]
    },
    {
      "cell_type": "code",
      "source": [
        "class MyClass:\n",
        "  def __init__(self,name,age,course,school):\n",
        "    self.name=name\n",
        "    self.age=age\n",
        "    self.course=course\n",
        "    self.school=school\n",
        "\n",
        "  def information(self):\n",
        "    return '{},{},{},{}'.format(self.name,self.age,self.course,self.school)  \n",
        "\n",
        "student= MyClass('Gabriel S. Catanaoan', 18, 'Bachelor of Science in Computer Engineering', 'Cavite State University')\n",
        "print(student.information())"
      ],
      "metadata": {
        "colab": {
          "base_uri": "https://localhost:8080/"
        },
        "id": "pT8i2NbXXL7C",
        "outputId": "a6d58955-a835-43e6-a3c7-6b66338cecf5"
      },
      "execution_count": 67,
      "outputs": [
        {
          "output_type": "stream",
          "name": "stdout",
          "text": [
            "Gabriel S. Catanaoan,18,Bachelor of Science in Computer Engineering,Cavite State University\n"
          ]
        }
      ]
    }
  ]
}