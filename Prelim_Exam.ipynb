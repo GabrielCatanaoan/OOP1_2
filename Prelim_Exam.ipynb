{
  "nbformat": 4,
  "nbformat_minor": 0,
  "metadata": {
    "colab": {
      "name": "Prelim Exam.ipynb",
      "provenance": [],
      "collapsed_sections": [],
      "authorship_tag": "ABX9TyOUnwCO+7yghUeXK7rDaWhW",
      "include_colab_link": true
    },
    "kernelspec": {
      "name": "python3",
      "display_name": "Python 3"
    },
    "language_info": {
      "name": "python"
    }
  },
  "cells": [
    {
      "cell_type": "markdown",
      "metadata": {
        "id": "view-in-github",
        "colab_type": "text"
      },
      "source": [
        "<a href=\"https://colab.research.google.com/github/GabrielCatanaoan/OOP1_2/blob/main/Prelim_Exam.ipynb\" target=\"_parent\"><img src=\"https://colab.research.google.com/assets/colab-badge.svg\" alt=\"Open In Colab\"/></a>"
      ]
    },
    {
      "cell_type": "markdown",
      "source": [
        "##Problem 2"
      ],
      "metadata": {
        "id": "EbC9id7LsrQD"
      }
    },
    {
      "cell_type": "markdown",
      "source": [
        "Write a Python to display your full name, student number, age, and course 2. Create a class named Student with attributes: Name, Student_No, Age, School, and Course 3. Create an object name Myself and assign an instance for each attribute. 4. Create a method Info() using an instantiation of a class."
      ],
      "metadata": {
        "id": "T7Wv1b3lsv0q"
      }
    },
    {
      "cell_type": "code",
      "source": [
        "class Student:\n",
        "  def __init__(self,Name,Student_No,Age,School,Course):\n",
        "    self.Name=Name\n",
        "    self.Student_No=Student_No\n",
        "    self.Age=Age\n",
        "    self.School=School\n",
        "    self.Course=Course\n",
        "  def Info(self):\n",
        "    return (f'Name: {self.Name} | Studen No: {self.Student_No} | Age: {self.Age} | School: {self.School} | Course: {self.Course}')\n",
        "  \n",
        "Myself=Student('Gabriel S. Catanaoan', 202101498, 18,'Cavite State University','Bachelor of Science in Computer Enginieering')\n",
        "\n",
        "print(Myself.Info())"
      ],
      "metadata": {
        "colab": {
          "base_uri": "https://localhost:8080/"
        },
        "id": "Tfiyk5kus225",
        "outputId": "83f73ef4-3fd9-47ca-e8c4-970e34dcafd5"
      },
      "execution_count": 12,
      "outputs": [
        {
          "output_type": "stream",
          "name": "stdout",
          "text": [
            "Name: Gabriel S. Catanaoan | Studen No: 202101498 | Age: 18 | School: Cavite State University | Course: Bachelor of Science in Computer Enginieering\n"
          ]
        }
      ]
    }
  ]
}