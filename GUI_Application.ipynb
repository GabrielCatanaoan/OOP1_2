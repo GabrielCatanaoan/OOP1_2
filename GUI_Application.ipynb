{
  "nbformat": 4,
  "nbformat_minor": 0,
  "metadata": {
    "colab": {
      "name": "GUI Application.ipynb",
      "provenance": [],
      "authorship_tag": "ABX9TyOO7/FU1qDb1vb3YLEoPnxM",
      "include_colab_link": true
    },
    "kernelspec": {
      "name": "python3",
      "display_name": "Python 3"
    },
    "language_info": {
      "name": "python"
    }
  },
  "cells": [
    {
      "cell_type": "markdown",
      "metadata": {
        "id": "view-in-github",
        "colab_type": "text"
      },
      "source": [
        "<a href=\"https://colab.research.google.com/github/GabrielCatanaoan/OOP1_2/blob/main/GUI_Application.ipynb\" target=\"_parent\"><img src=\"https://colab.research.google.com/assets/colab-badge.svg\" alt=\"Open In Colab\"/></a>"
      ]
    },
    {
      "cell_type": "markdown",
      "source": [
        ""
      ],
      "metadata": {
        "id": "h2nrDLftufrV"
      }
    },
    {
      "cell_type": "code",
      "source": [
        "#@title Students Grade in OOP\n",
        "\n",
        "Student_Name1='enter student name' #@param{type:'string'}\n",
        "prelim= 90 #@param{type: 'number'}\n",
        "midterm= 95 #@param{type: 'number'}\n",
        "final= 100 #@param{type: 'number'}\n",
        "semestral_grade= (prelim+midterm+final)/3\n",
        "\n",
        "print('The prelim grade of student 1 is '+ str(prelim))\n",
        "print('The midterm grade of student 1 is '+ str(midterm))\n",
        "print('The final grade of student 1 is '+ str(final))\n",
        "print('The semestral grade of student 1 is '+ str(semestral_grade))\n",
        "\n",
        "\n",
        "#@title Gender\n",
        "Gender= 'Male'#@param['Male','Female']\n",
        "print('gender is',Gender)\n",
        "\n",
        "Birtdate='2003-08-14' #@param {type: 'date'}\n",
        "\n",
        "\n"
      ],
      "metadata": {
        "colab": {
          "base_uri": "https://localhost:8080/"
        },
        "id": "V2LnGSucug-t",
        "outputId": "07f9c1f6-55f1-43bd-cd59-4e1bc1448522"
      },
      "execution_count": 38,
      "outputs": [
        {
          "output_type": "stream",
          "name": "stdout",
          "text": [
            "The prelim grade of student 1 is 90\n",
            "The midterm grade of student 1 is 95\n",
            "The final grade of student 1 is 100\n",
            "The semestral grade of student 1 is 95.0\n",
            "gender is Male\n"
          ]
        }
      ]
    }
  ]
}