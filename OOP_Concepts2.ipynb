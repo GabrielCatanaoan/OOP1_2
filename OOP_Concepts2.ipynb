{
  "nbformat": 4,
  "nbformat_minor": 0,
  "metadata": {
    "colab": {
      "name": "OOP Concepts2.ipynb",
      "provenance": [],
      "collapsed_sections": [],
      "authorship_tag": "ABX9TyOcWsxNKXt/FA+bkAlKEVuL",
      "include_colab_link": true
    },
    "kernelspec": {
      "name": "python3",
      "display_name": "Python 3"
    },
    "language_info": {
      "name": "python"
    }
  },
  "cells": [
    {
      "cell_type": "markdown",
      "metadata": {
        "id": "view-in-github",
        "colab_type": "text"
      },
      "source": [
        "<a href=\"https://colab.research.google.com/github/GabrielCatanaoan/OOP1_2/blob/main/OOP_Concepts2.ipynb\" target=\"_parent\"><img src=\"https://colab.research.google.com/assets/colab-badge.svg\" alt=\"Open In Colab\"/></a>"
      ]
    },
    {
      "cell_type": "markdown",
      "source": [
        "Classes with Multiple Objects"
      ],
      "metadata": {
        "id": "dLU872OZVOk9"
      }
    },
    {
      "cell_type": "code",
      "source": [
        "class Birds:\n",
        "  def __init__(self,bird_name):\n",
        "    self.bird_name=bird_name\n",
        "  \n",
        "  def flying_birds(self):\n",
        "    print(f'{self.bird_name} flies above the sky')\n",
        "\n",
        "  def non_flying_birds(self):\n",
        "    print(f'{self.bird_name} is the national bird of the Philippines')\n",
        "\n",
        "vulture=Birds('Griffon Vulture')\n",
        "crane=Birds('Commmon Crane')\n",
        "emu=Birds('Emu')\n",
        "\n",
        "vulture.flying_birds()\n",
        "crane.flying_birds()\n",
        "emu.non_flying_birds()"
      ],
      "metadata": {
        "colab": {
          "base_uri": "https://localhost:8080/"
        },
        "id": "2r-_yXW8VShF",
        "outputId": "ce958375-bc0b-45bc-93ce-839d982837b0"
      },
      "execution_count": null,
      "outputs": [
        {
          "output_type": "stream",
          "name": "stdout",
          "text": [
            "Griffon Vulture flies above the sky\n",
            "Commmon Crane flies above the sky\n",
            "Emu is the national bird of the Philippines\n"
          ]
        }
      ]
    },
    {
      "cell_type": "markdown",
      "source": [
        "Encapsulation using mangling with double underscores"
      ],
      "metadata": {
        "id": "-GP0jxEsX17X"
      }
    },
    {
      "cell_type": "code",
      "source": [
        "class foo:\n",
        "  def __init__(self,a,b):\n",
        "    self.__a=a\n",
        "    self.__b=b\n",
        "  def add(self):\n",
        "    return self.__a+self.__b   #Private attributes\n",
        "\n",
        "number=foo(3,4)\n",
        "number.add()\n",
        "\n",
        "number.a=7    #7+3=11\n",
        "number.add()"
      ],
      "metadata": {
        "colab": {
          "base_uri": "https://localhost:8080/"
        },
        "id": "9quzag-DXPIA",
        "outputId": "982e8ed4-0488-424c-b52c-9d4c9d197121"
      },
      "execution_count": null,
      "outputs": [
        {
          "output_type": "execute_result",
          "data": {
            "text/plain": [
              "7"
            ]
          },
          "metadata": {},
          "execution_count": 20
        }
      ]
    },
    {
      "cell_type": "code",
      "source": [
        "class Counter:\n",
        "  def __init__(self):\n",
        "    self.current=0\n",
        "  \n",
        "  def increment(self):\n",
        "    self.current+=1\n",
        "\n",
        "  def value(self):\n",
        "   return self.current\n",
        "\n",
        "  def reset(self):\n",
        "    self.current=0\n",
        "\n",
        "num=Counter()\n",
        "num.increment()    #counter=counter+1\n",
        "num.increment() \n",
        "num.increment()\n",
        "\n",
        "num.value()"
      ],
      "metadata": {
        "colab": {
          "base_uri": "https://localhost:8080/"
        },
        "id": "Nh-JvSDOXwYh",
        "outputId": "adc99bd4-7902-4a73-d563-509b0feeb054"
      },
      "execution_count": null,
      "outputs": [
        {
          "output_type": "execute_result",
          "data": {
            "text/plain": [
              "3"
            ]
          },
          "metadata": {},
          "execution_count": 22
        }
      ]
    },
    {
      "cell_type": "markdown",
      "source": [
        "Encapsulation of private attributes"
      ],
      "metadata": {
        "id": "zkAr0nkXdTuE"
      }
    },
    {
      "cell_type": "code",
      "source": [
        "class Counter:\n",
        "  def __init__(self):\n",
        "    self.__current=0\n",
        "  \n",
        "  def increment(self):\n",
        "    self.__current+=1\n",
        "\n",
        "  def value(self):\n",
        "   return self.__current\n",
        "\n",
        "  def reset(self):\n",
        "    self.__current=0\n",
        "\n",
        "num=Counter()\n",
        "\n",
        "num.increment()    #counter=counter+1\n",
        "num.increment() \n",
        "num.increment()\n",
        "\n",
        "num.value()\n",
        "\n"
      ],
      "metadata": {
        "colab": {
          "base_uri": "https://localhost:8080/"
        },
        "id": "xk4VFG3zajEX",
        "outputId": "6e813af2-a17e-419c-dcb6-a1c8af39e704"
      },
      "execution_count": null,
      "outputs": [
        {
          "output_type": "execute_result",
          "data": {
            "text/plain": [
              "3"
            ]
          },
          "metadata": {},
          "execution_count": 35
        }
      ]
    },
    {
      "cell_type": "markdown",
      "source": [
        "Inheritance"
      ],
      "metadata": {
        "id": "Jkmr7MBZdIve"
      }
    },
    {
      "cell_type": "code",
      "source": [
        "class Person:\n",
        "  def __init__(self,firstname,surname):\n",
        "    self.firstname=firstname\n",
        "    self.surname=surname\n",
        "  def printname(self):\n",
        "    print(self.firstname,self.surname)\n",
        "\n",
        "person=Person('Ana','Santos')\n",
        "person.printname()\n",
        "\n",
        "class Teacher(Person):\n",
        "  pass\n",
        "\n",
        "person2=Teacher('Maria','Sayo')\n",
        "person2.printname()\n",
        "\n",
        "class Student(Person):\n",
        "  pass\n",
        "\n",
        "person3=Student('Jhoriz','Aquino')\n",
        "person3.printname()"
      ],
      "metadata": {
        "colab": {
          "base_uri": "https://localhost:8080/"
        },
        "id": "eRg_5srMdX10",
        "outputId": "346f8099-d2cb-4cee-d23d-c3ff7feb841c"
      },
      "execution_count": null,
      "outputs": [
        {
          "output_type": "stream",
          "name": "stdout",
          "text": [
            "Ana Santos\n",
            "Maria Sayo\n",
            "Jhoriz Aquino\n"
          ]
        }
      ]
    },
    {
      "cell_type": "markdown",
      "source": [
        "Polymorphism"
      ],
      "metadata": {
        "id": "UJ3Vw-4XfKZ3"
      }
    },
    {
      "cell_type": "code",
      "source": [
        "class RegularPolygon:\n",
        "  def __init__(self,side):\n",
        "    self.side=side\n",
        "\n",
        "class Square(RegularPolygon):\n",
        "  def area(self):\n",
        "    return self.side*self.side\n",
        "class EquilateralTriangle(RegularPolygon):\n",
        "  def area(self):\n",
        "    return self.side*self.side*0.433\n",
        "\n",
        "object=Square(4)\n",
        "print(object.area())\n",
        "\n",
        "object2=EquilateralTriangle(3)\n",
        "print(object2.area())"
      ],
      "metadata": {
        "id": "5he6N3nzfNWG",
        "colab": {
          "base_uri": "https://localhost:8080/"
        },
        "outputId": "8e86bd42-d857-4e92-f13b-cf9b3936873c"
      },
      "execution_count": 200,
      "outputs": [
        {
          "output_type": "stream",
          "name": "stdout",
          "text": [
            "16\n",
            "3.897\n"
          ]
        }
      ]
    },
    {
      "cell_type": "markdown",
      "source": [
        "Application 1"
      ],
      "metadata": {
        "id": "2R2zLWo0hj1j"
      }
    },
    {
      "cell_type": "markdown",
      "source": [
        "1.Create a Python program tha displays the name of three students(Student 1,Student 2, Student 3) and their term grades\n",
        "\n",
        "2.Create a class name Person and attributes-std1,std2,std3,pre,mid,fin\n",
        "\n",
        "3.Compute the average of each term grade using Grade() method\n",
        "\n",
        "4.Information about student's grades must be hidden from others"
      ],
      "metadata": {
        "id": "CldD9d5iwvTe"
      }
    },
    {
      "cell_type": "code",
      "source": [
        "class Person:\n",
        "  def __init__(self,firstname,surname):\n",
        "    self.__firstname=firstname                   #Private attributes(ENCAPSULATED)\n",
        "    self.__surname=surname\n",
        "  def fullname(self):\n",
        "    return '{},{}'.format(self.__surname,self.__firstname)\n",
        "class Student(Person):\n",
        "  def __init__(self,firstname,surname,pre,mid,fin):\n",
        "    super().__init__(firstname,surname)\n",
        "    self.__pre=pre                        #Private attributes(ENCAPSULATED)\n",
        "    self.__mid=mid\n",
        "    self.__fin=fin\n",
        "  def term_grades(self):\n",
        "    return '{},{},{}'.format(self.__pre,self.__mid,self.__fin)\n",
        "  def Grade(self):\n",
        "    return round(((self.__pre+self.__mid+self.__fin)/3)*.70,2)      #Grading System(70% for major exams, 30% for others)\n",
        "  def all_information(self):\n",
        "    return '''Student Name: {}\n",
        "Term Grades(prelim,midterm,final): {}\n",
        "Partial Grade(this is the 70% of the average of term grades): {}'''.format(self.fullname(),self.term_grades(),self.Grade())\n",
        "\n",
        "std1=Student('Gabriel','Catanaoan',100,100,100)\n",
        "std2=Student('Rein','Crusem',92,100,100)\n",
        "std3=Student('Gojo','Ackerman',70,70,70)\n",
        "print(std1.all_information())\n",
        "print(std2.all_information())\n",
        "print(std3.all_information())\n",
        "\n",
        "#example of prohibition for attribute manipulation\n",
        "std1.prelim=0                           \n",
        "std1.midterm=0                   #if not encapsulated the outcome would become\n",
        "std1.final=0                        #name:Kusakabe,Shinra\n",
        "std1.surname='Kusakabe'             #term grades:  0,0,0\n",
        "std1.firstname='Shinra'             #partial grade:  0\n",
        "print(std1.all_information())\n",
        "\n",
        "\n"
      ],
      "metadata": {
        "colab": {
          "base_uri": "https://localhost:8080/"
        },
        "id": "NOyNu0f9Fg5R",
        "outputId": "21c0cde7-bf3a-4158-f953-14ebd6963502"
      },
      "execution_count": 207,
      "outputs": [
        {
          "output_type": "stream",
          "name": "stdout",
          "text": [
            "Student Name: Catanaoan,Gabriel\n",
            "Term Grades(prelim,midterm,final): 100,100,100\n",
            "Partial Grade(this is the 70% of the average of term grades): 70.0\n",
            "Student Name: Crusem,Rein\n",
            "Term Grades(prelim,midterm,final): 92,100,100\n",
            "Partial Grade(this is the 70% of the average of term grades): 68.13\n",
            "Student Name: Ackerman,Gojo\n",
            "Term Grades(prelim,midterm,final): 70,70,70\n",
            "Partial Grade(this is the 70% of the average of term grades): 49.0\n",
            "Student Name: Catanaoan,Gabriel\n",
            "Term Grades(prelim,midterm,final): 100,100,100\n",
            "Partial Grade(this is the 70% of the average of term grades): 70.0\n"
          ]
        }
      ]
    }
  ]
}